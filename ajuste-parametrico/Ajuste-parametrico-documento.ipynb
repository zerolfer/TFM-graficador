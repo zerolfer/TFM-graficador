{
 "cells": [
  {
   "cell_type": "markdown",
   "metadata": {},
   "source": [
    "# Ajuste Paramétrico"
   ]
  },
  {
   "cell_type": "markdown",
   "metadata": {},
   "source": [
    "Hacemos las importaciones pertinentes y ajustamos el tamaño de las gráficas"
   ]
  },
  {
   "cell_type": "code",
   "execution_count": null,
   "metadata": {
    "pycharm": {
     "is_executing": false
    },
    "scrolled": false
   },
   "outputs": [],
   "source": [
    "%run ../ajuste-parametrico.py\n",
    "\n",
    "# %matplotlib notebook\n",
    "plt.rcParams[\"figure.figsize\"] = (15,9)"
   ]
  },
  {
   "cell_type": "code",
   "execution_count": null,
   "metadata": {
    "scrolled": false
   },
   "outputs": [],
   "source": [
    "plt.rcParams[\"figure.figsize\"] = (15,9)\n",
    "BASE_URL = \"C:\\\\Users\\\\GL753V\\\\Documents\\\\Projects\\\\TFM-graficador\\\\ejecuciones\\\\ajuste-parametrico\\\\caso5\\\\primera-iteracion\\\\\""
   ]
  },
  {
   "cell_type": "markdown",
   "metadata": {},
   "source": [
    "El orden de los parámetros ordenados por robustez es:\n",
    "1.\tTipo de VNS<br>\n",
    "    Para skewed:<br>\n",
    "    1.1.\tAlpha <br>\n",
    "    1.2.\tFunción de distancia <br>\n",
    "2.\tEstructuras de vecindad y orden<br>\n",
    "3.\tNaturaleza del orden de los entornos (determinísticos o probabilísticos)<br>\n",
    "    Para Probabilístico:<br>\n",
    "    3.1.\tProbabilidad de diversificación<br>\n",
    "    3.2.\tVariación de la probabilidad de diversificación <br>\n",
    "    3.3.\tNumero de iteraciones sin variar la probabilidad de diversificación\n",
    "4.\tNúmero de iteraciones para comprobar el porcentaje de mejoría (ciclos)\n",
    "5.\tPorcentaje mínimo de mejoría\n",
    "6.\tNúmero máximo de iteraciones sin mejora para la búsqueda local\n",
    "7.\tPorcentaje mínimo de mejoría para la búsqueda local\n"
   ]
  },
  {
   "cell_type": "markdown",
   "metadata": {},
   "source": [
    "## Tipo de VNS\n",
    "Empezamos el ajuste con el tipo de VNS. Para ello probamos diferentes valores para alpha y la funcion de distancia cuando ejecutemos el SVNS"
   ]
  },
  {
   "cell_type": "markdown",
   "metadata": {},
   "source": [
    "### Alpha y función de distancia "
   ]
  },
  {
   "cell_type": "markdown",
   "metadata": {},
   "source": [
    "Para poder ajustar el alpha tenemos dos posibilidades, empleando como función de distancia el número de slots y empleando la diferencia del valor de los fitness"
   ]
  },
  {
   "cell_type": "markdown",
   "metadata": {},
   "source": [
    "#### Funcion de distancia: Número de Slots"
   ]
  },
  {
   "cell_type": "code",
   "execution_count": null,
   "metadata": {
    "scrolled": true
   },
   "outputs": [],
   "source": [
    "base_path = BASE_URL + \"1-TipoVNS\\\\SVNS\\\\slots\"\n",
    "sub_paths = get_subpaths(base_path, float)\n",
    "\n",
    "parametro=\"SVNS Alpha slots\"\n",
    "out_path=\"1-1 \"+parametro+\"/\""
   ]
  },
  {
   "cell_type": "code",
   "execution_count": null,
   "metadata": {
    "scrolled": false
   },
   "outputs": [],
   "source": [
    "ajuste_parametrico(base_path, sub_paths, out_path, parametro)"
   ]
  },
  {
   "cell_type": "markdown",
   "metadata": {},
   "source": [
    "#### Función de distancia: Fitness"
   ]
  },
  {
   "cell_type": "code",
   "execution_count": null,
   "metadata": {
    "scrolled": false
   },
   "outputs": [],
   "source": [
    "base_path = BASE_URL + \"1-TipoVNS\\\\SVNS\\\\fitness\"\n",
    "sub_paths = get_subpaths(base_path, key=float)\n",
    "\n",
    "parametro=\"SVNS Alpha fitness\"\n",
    "out_path=\"1-2 \"+parametro+\"/\"\n",
    "\n",
    "ajuste_parametrico(base_path, sub_paths, out_path, parametro)"
   ]
  },
  {
   "cell_type": "markdown",
   "metadata": {},
   "source": [
    "En vista de los resultados anteriores, podemos decir que los resultados son mejores empleando como función de distancia la diferencia entre los fitness, con un apha de 1\n",
    "$$\\alpha=1$$\n",
    "$$Función Distancia = \\Delta fitness$$"
   ]
  },
  {
   "cell_type": "markdown",
   "metadata": {},
   "source": [
    "#### Tipo de VNS"
   ]
  },
  {
   "cell_type": "code",
   "execution_count": null,
   "metadata": {
    "scrolled": false
   },
   "outputs": [],
   "source": [
    "base_path = BASE_URL + \"1-TipoVNS\"\n",
    "sub_paths = [\"VND\", \"RVNS\", \"BVNS\", \"GVNS\"]\n",
    "\n",
    "parametro=\"Tipo VNS\"\n",
    "out_path=\"1-3 \"+parametro+\"/\"\n",
    "\n",
    "ajuste_parametrico(base_path, sub_paths, out_path, parametro)"
   ]
  },
  {
   "cell_type": "markdown",
   "metadata": {},
   "source": [
    "Podemos observar que los resultados del SVNS son muy similares a todos los demas, y si tenemos en cuenta que es el necesita mayor coste computacional, podemos descartarlo.\n",
    "<br>\n",
    "En cuanto a los demás, si bien las diferencias nuevamente son mínimas, el mejor de todos es el VND, que es además el más sencillo de todos, es decir, el de menor coste computacional.\n",
    "\n",
    "$$Tipo VNS = VND$$"
   ]
  },
  {
   "cell_type": "markdown",
   "metadata": {},
   "source": [
    "## Estructuras de vecindad y orden"
   ]
  },
  {
   "cell_type": "markdown",
   "metadata": {},
   "source": [
    "Las estructuras de vecindad propuestas son:\n",
    "\n",
    "a) movRejilla, movMaxCarga.1 ... movMaxCarga.4, movLibre\n",
    "<br>\n",
    "b) movMaxCarga, movRejilla.1 ... movRejilla.4, movLibre\n",
    "<br>\n",
    "c) movMaxCarga.1 ... movMaxCarga.4, movRejilla.1 ... movRejilla.4, movLibre\n",
    "<br>\n",
    "d) movRejilla.1 ... movRejilla.4, movMaxCarga.1 ... movMaxCarga.4, movLibre\n",
    "<br>"
   ]
  },
  {
   "cell_type": "code",
   "execution_count": null,
   "metadata": {
    "scrolled": false
   },
   "outputs": [],
   "source": [
    "base_path = BASE_URL + \"2-OrdenEntornos\"\n",
    "sub_paths = get_subpaths(base_path)\n",
    "\n",
    "parametro=\"Orden Entornos\"\n",
    "out_path=\"2 \"+parametro+\"/\"\n",
    "\n",
    "ajuste_parametrico(base_path, sub_paths, out_path, parametro)"
   ]
  },
  {
   "cell_type": "markdown",
   "metadata": {},
   "source": [
    "## Naturaleza del orden de los entornos"
   ]
  },
  {
   "cell_type": "markdown",
   "metadata": {},
   "source": [
    "### Probabilístico\n",
    "\n"
   ]
  },
  {
   "cell_type": "markdown",
   "metadata": {
    "code_folding": []
   },
   "source": [
    "#### Probabilidad de diversificación"
   ]
  },
  {
   "cell_type": "code",
   "execution_count": null,
   "metadata": {
    "scrolled": false
   },
   "outputs": [],
   "source": [
    "base_path = BASE_URL + \"3-Vecindades\\\\probabilisticos\\\\prob\"\n",
    "sub_paths = get_subpaths(base_path, key=float)\n",
    "\n",
    "parametro = \"Probabilidad Diversificacion\"\n",
    "out_path = \"3-1 \" + parametro + \"/\"\n",
    "\n",
    "ajuste_parametrico(base_path, sub_paths, out_path, parametro)"
   ]
  },
  {
   "cell_type": "markdown",
   "metadata": {},
   "source": [
    "#### Variación de la probabilidad de diversificación"
   ]
  },
  {
   "cell_type": "code",
   "execution_count": null,
   "metadata": {
    "scrolled": false
   },
   "outputs": [],
   "source": [
    "base_path = BASE_URL + \"3-Vecindades\\\\probabilisticos\\\\var\"\n",
    "sub_paths = get_subpaths(base_path, key=float)\n",
    "\n",
    "parametro = \"Variacion Probabilidad Diversificacion\"\n",
    "out_path = \"3-2 \" + parametro + \"/\"\n",
    "\n",
    "ajuste_parametrico(base_path, sub_paths, out_path, parametro)"
   ]
  },
  {
   "cell_type": "markdown",
   "metadata": {},
   "source": [
    "#### Numero de iteraciones sin variar la probabilidad de diversificación"
   ]
  },
  {
   "cell_type": "code",
   "execution_count": null,
   "metadata": {
    "scrolled": false
   },
   "outputs": [],
   "source": [
    "base_path = BASE_URL + \"3-Vecindades\\\\probabilisticos\\\\iter\"\n",
    "sub_paths = get_subpaths(base_path, key=float)\n",
    "\n",
    "parametro = \"Ciclos Probabilidad Diversificacion\"\n",
    "out_path = \"3-3 \" + parametro + \"/\"\n",
    "\n",
    "ajuste_parametrico(base_path, sub_paths, out_path, parametro)"
   ]
  },
  {
   "cell_type": "markdown",
   "metadata": {},
   "source": [
    "### Determinista vs Probabilistico\n"
   ]
  },
  {
   "cell_type": "code",
   "execution_count": null,
   "metadata": {
    "pycharm": {
     "is_executing": false
    },
    "scrolled": false
   },
   "outputs": [],
   "source": [
    "base_path = BASE_URL + \"3-Vecindades\\\\TipoEntornos\"\n",
    "sub_paths = [\"determinista\", \"probabilistico\"]\n",
    "#sub_paths = get_subpaths(base_path)\n",
    "\n",
    "parametro = \"Naturaleza Orden Entornos\"\n",
    "out_path = \"3-4 \" + parametro + \"/\"\n",
    "\n",
    "ajuste_parametrico(base_path, sub_paths, out_path, parametro)"
   ]
  },
  {
   "cell_type": "markdown",
   "metadata": {},
   "source": [
    "## Número de iteraciones para comprobar el porcentaje de mejoría (ciclos)"
   ]
  },
  {
   "cell_type": "code",
   "execution_count": null,
   "metadata": {
    "scrolled": false
   },
   "outputs": [],
   "source": [
    "base_path = BASE_URL + \"4-NumCiclosPorcentajeMejoria\"\n",
    "sub_paths = get_subpaths(base_path, key=int)\n",
    "parametro = \"Numero Iteraciones para comprobar porcentaje de mejoría\"\n",
    "out_path = \"4 \" + parametro + \"/\"\n",
    "\n",
    "ajuste_parametrico(base_path, sub_paths, out_path, parametro, {\"ordenados\": False, \"multiple\": True})"
   ]
  },
  {
   "cell_type": "markdown",
   "metadata": {},
   "source": [
    "## Porcentaje mínimo de mejoría"
   ]
  },
  {
   "cell_type": "code",
   "execution_count": null,
   "metadata": {
    "scrolled": false
   },
   "outputs": [],
   "source": [
    "base_path = BASE_URL + \"5-PorcentajeMinimoMejoria\"\n",
    "sub_paths = get_subpaths(base_path, key=float)\n",
    "parametro = \"Porcentaje mínimo de mejoría\"\n",
    "out_path = \"5 \" + parametro + \"/\"\n",
    "\n",
    "ajuste_parametrico(base_path, sub_paths, out_path, parametro, \n",
    "                   {\"ordenados\":False, \"multiple\":False}, {\"ordenados\":False, \"multiple\":True}\n",
    "                  )"
   ]
  },
  {
   "cell_type": "markdown",
   "metadata": {},
   "source": [
    "## Número máximo de iteraciones sin mejora en la Búsqueda Local"
   ]
  },
  {
   "cell_type": "code",
   "execution_count": null,
   "metadata": {
    "scrolled": false
   },
   "outputs": [],
   "source": [
    "base_path = BASE_URL + \"6-NumMaxIteracionesSinMejoraBusquedaLocal\"\n",
    "sub_paths = get_subpaths(base_path, key=int)\n",
    "parametro = \"Número máximo de iteraciones sin mejora en la Búsqueda Local\"\n",
    "out_path = \"6 \" + parametro + \"/\"\n",
    "\n",
    "ajuste_parametrico(base_path, sub_paths, out_path, parametro, {\"multiple\":True, \"ordenados\":False})"
   ]
  },
  {
   "cell_type": "markdown",
   "metadata": {},
   "source": [
    "## Porcentaje mínimo de mejoría en la Búsqueda Local"
   ]
  },
  {
   "cell_type": "code",
   "execution_count": null,
   "metadata": {
    "scrolled": false
   },
   "outputs": [],
   "source": [
    "base_path = BASE_URL + \"7-PorcentajeMinimoMejoriaBusquedaLocal\"\n",
    "sub_paths = get_subpaths(base_path, key=float)\n",
    "parametro = \"Porcentaje mínimo de mejoría en la Búsqueda Local\"\n",
    "out_path = \"7 \" + parametro + \"/\"\n",
    "\n",
    "ajuste_parametrico(base_path, sub_paths, out_path, parametro)"
   ]
  },
  {
   "cell_type": "code",
   "execution_count": null,
   "metadata": {},
   "outputs": [],
   "source": []
  }
 ],
 "metadata": {
  "hide_input": false,
  "kernelspec": {
   "display_name": "Python 3",
   "language": "python",
   "name": "python3"
  },
  "language_info": {
   "codemirror_mode": {
    "name": "ipython",
    "version": 3
   },
   "file_extension": ".py",
   "mimetype": "text/x-python",
   "name": "python",
   "nbconvert_exporter": "python",
   "pygments_lexer": "ipython3",
   "version": "3.7.3"
  },
  "pycharm": {
   "stem_cell": {
    "cell_type": "raw",
    "metadata": {
     "collapsed": false
    },
    "source": []
   }
  },
  "toc": {
   "base_numbering": 1,
   "nav_menu": {
    "height": "241.989px",
    "width": "484.432px"
   },
   "number_sections": true,
   "sideBar": true,
   "skip_h1_title": true,
   "title_cell": "Table of Contents",
   "title_sidebar": "Contents",
   "toc_cell": false,
   "toc_position": {
    "height": "303.239px",
    "left": "189px",
    "top": "191.284px",
    "width": "343.438px"
   },
   "toc_section_display": true,
   "toc_window_display": true
  },
  "varInspector": {
   "cols": {
    "lenName": 16,
    "lenType": 16,
    "lenVar": 40
   },
   "kernels_config": {
    "python": {
     "delete_cmd_postfix": "",
     "delete_cmd_prefix": "del ",
     "library": "var_list.py",
     "varRefreshCmd": "print(var_dic_list())"
    },
    "r": {
     "delete_cmd_postfix": ") ",
     "delete_cmd_prefix": "rm(",
     "library": "var_list.r",
     "varRefreshCmd": "cat(var_dic_list()) "
    }
   },
   "position": {
    "height": "547.2px",
    "left": "856.6px",
    "right": "20px",
    "top": "103px",
    "width": "663.8px"
   },
   "types_to_exclude": [
    "module",
    "function",
    "builtin_function_or_method",
    "instance",
    "_Feature"
   ],
   "window_display": false
  }
 },
 "nbformat": 4,
 "nbformat_minor": 1
}
