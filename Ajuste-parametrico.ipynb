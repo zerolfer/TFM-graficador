{
 "cells": [
  {
   "cell_type": "code",
   "execution_count": 18,
   "metadata": {},
   "outputs": [],
   "source": [
    "import pandas as pd\n",
    "from os import listdir\n",
    "import matplotlib.pyplot as plt\n",
    "\n",
    "# %matplotlib notebook\n",
    "plt.rcParams[\"figure.figsize\"] = (9,9)"
   ]
  },
  {
   "cell_type": "code",
   "execution_count": 2,
   "metadata": {},
   "outputs": [],
   "source": [
    "def cargar_ejecuciones(path):\n",
    "    dfs = []\n",
    "    for ejecucion in listdir(path):\n",
    "        df = pd.read_csv(path + \"\\\\\" + ejecucion, sep=';')\n",
    "        dfs.append(df)\n",
    "\n",
    "    return dfs"
   ]
  },
  {
   "cell_type": "code",
   "execution_count": 3,
   "metadata": {},
   "outputs": [],
   "source": [
    "def procesar_medias(dfs):\n",
    "    lista = []\n",
    "    for df in dfs:\n",
    "        lista.append(df.iloc[-1])\n",
    "    # print(list)\n",
    "    df_concat = pd.DataFrame(data=lista, index=range(0, len(lista)))\n",
    "    #     df_concat\n",
    "    return df_concat.mean()"
   ]
  },
  {
   "cell_type": "code",
   "execution_count": 22,
   "metadata": {
    "scrolled": false
   },
   "outputs": [
    {
     "data": {
      "text/html": [
       "<div>\n",
       "<style scoped>\n",
       "    .dataframe tbody tr th:only-of-type {\n",
       "        vertical-align: middle;\n",
       "    }\n",
       "\n",
       "    .dataframe tbody tr th {\n",
       "        vertical-align: top;\n",
       "    }\n",
       "\n",
       "    .dataframe thead th {\n",
       "        text-align: right;\n",
       "    }\n",
       "</style>\n",
       "<table border=\"1\" class=\"dataframe\">\n",
       "  <thead>\n",
       "    <tr style=\"text-align: right;\">\n",
       "      <th></th>\n",
       "      <th>iteracion</th>\n",
       "      <th>tiempo (ms)</th>\n",
       "      <th>fitness total</th>\n",
       "      <th>fitness 1</th>\n",
       "      <th>fitness 2</th>\n",
       "      <th>fitness 3</th>\n",
       "      <th>fitness 4</th>\n",
       "      <th>tamaño</th>\n",
       "      <th>porcentajeMejora</th>\n",
       "      <th>mejor fitness</th>\n",
       "      <th>distancia</th>\n",
       "    </tr>\n",
       "  </thead>\n",
       "  <tbody>\n",
       "    <tr>\n",
       "      <th>30.0</th>\n",
       "      <td>7.047910e+04</td>\n",
       "      <td>416473.200000</td>\n",
       "      <td>0.868991</td>\n",
       "      <td>0.0</td>\n",
       "      <td>0.824547</td>\n",
       "      <td>0.637500</td>\n",
       "      <td>0.512307</td>\n",
       "      <td>24.0</td>\n",
       "      <td>0.001474</td>\n",
       "      <td>0.875076</td>\n",
       "      <td>0.283889</td>\n",
       "    </tr>\n",
       "    <tr>\n",
       "      <th>2.0</th>\n",
       "      <td>1.617001e+06</td>\n",
       "      <td>973195.800000</td>\n",
       "      <td>0.873443</td>\n",
       "      <td>0.0</td>\n",
       "      <td>0.829983</td>\n",
       "      <td>0.654167</td>\n",
       "      <td>0.520376</td>\n",
       "      <td>24.0</td>\n",
       "      <td>0.005306</td>\n",
       "      <td>0.873443</td>\n",
       "      <td>0.306000</td>\n",
       "    </tr>\n",
       "    <tr>\n",
       "      <th>50.0</th>\n",
       "      <td>3.333433e+04</td>\n",
       "      <td>425552.000000</td>\n",
       "      <td>0.875275</td>\n",
       "      <td>0.0</td>\n",
       "      <td>0.832879</td>\n",
       "      <td>0.666667</td>\n",
       "      <td>0.506632</td>\n",
       "      <td>24.0</td>\n",
       "      <td>0.000000</td>\n",
       "      <td>0.875275</td>\n",
       "      <td>0.280000</td>\n",
       "    </tr>\n",
       "    <tr>\n",
       "      <th>20.0</th>\n",
       "      <td>1.925010e+05</td>\n",
       "      <td>507715.300000</td>\n",
       "      <td>0.876308</td>\n",
       "      <td>0.0</td>\n",
       "      <td>0.871696</td>\n",
       "      <td>0.591667</td>\n",
       "      <td>0.536662</td>\n",
       "      <td>24.0</td>\n",
       "      <td>0.002280</td>\n",
       "      <td>0.876308</td>\n",
       "      <td>0.288000</td>\n",
       "    </tr>\n",
       "    <tr>\n",
       "      <th>40.0</th>\n",
       "      <td>4.500100e+04</td>\n",
       "      <td>439668.666667</td>\n",
       "      <td>0.876396</td>\n",
       "      <td>0.0</td>\n",
       "      <td>0.777538</td>\n",
       "      <td>0.777778</td>\n",
       "      <td>0.496561</td>\n",
       "      <td>24.0</td>\n",
       "      <td>0.006127</td>\n",
       "      <td>0.876396</td>\n",
       "      <td>0.300000</td>\n",
       "    </tr>\n",
       "    <tr>\n",
       "      <th>15.0</th>\n",
       "      <td>3.900100e+04</td>\n",
       "      <td>390934.300000</td>\n",
       "      <td>0.878336</td>\n",
       "      <td>0.0</td>\n",
       "      <td>0.850714</td>\n",
       "      <td>0.645833</td>\n",
       "      <td>0.529477</td>\n",
       "      <td>24.0</td>\n",
       "      <td>0.000000</td>\n",
       "      <td>0.878336</td>\n",
       "      <td>0.288000</td>\n",
       "    </tr>\n",
       "    <tr>\n",
       "      <th>1.0</th>\n",
       "      <td>5.985010e+05</td>\n",
       "      <td>761977.800000</td>\n",
       "      <td>0.878664</td>\n",
       "      <td>0.0</td>\n",
       "      <td>0.832124</td>\n",
       "      <td>0.679167</td>\n",
       "      <td>0.535262</td>\n",
       "      <td>24.0</td>\n",
       "      <td>0.011344</td>\n",
       "      <td>0.878664</td>\n",
       "      <td>0.291000</td>\n",
       "    </tr>\n",
       "    <tr>\n",
       "      <th>5.0</th>\n",
       "      <td>3.585010e+05</td>\n",
       "      <td>589195.400000</td>\n",
       "      <td>0.878790</td>\n",
       "      <td>0.0</td>\n",
       "      <td>0.818809</td>\n",
       "      <td>0.708333</td>\n",
       "      <td>0.524355</td>\n",
       "      <td>24.0</td>\n",
       "      <td>0.006329</td>\n",
       "      <td>0.878790</td>\n",
       "      <td>0.297000</td>\n",
       "    </tr>\n",
       "    <tr>\n",
       "      <th>0.5</th>\n",
       "      <td>1.267001e+06</td>\n",
       "      <td>902052.400000</td>\n",
       "      <td>0.879840</td>\n",
       "      <td>0.0</td>\n",
       "      <td>0.801327</td>\n",
       "      <td>0.750000</td>\n",
       "      <td>0.516360</td>\n",
       "      <td>24.0</td>\n",
       "      <td>0.000442</td>\n",
       "      <td>0.879840</td>\n",
       "      <td>0.300000</td>\n",
       "    </tr>\n",
       "    <tr>\n",
       "      <th>10.0</th>\n",
       "      <td>1.290010e+05</td>\n",
       "      <td>576727.200000</td>\n",
       "      <td>0.879921</td>\n",
       "      <td>0.0</td>\n",
       "      <td>0.845606</td>\n",
       "      <td>0.666667</td>\n",
       "      <td>0.526787</td>\n",
       "      <td>24.0</td>\n",
       "      <td>0.007889</td>\n",
       "      <td>0.879921</td>\n",
       "      <td>0.291000</td>\n",
       "    </tr>\n",
       "  </tbody>\n",
       "</table>\n",
       "</div>"
      ],
      "text/plain": [
       "         iteracion    tiempo (ms)  fitness total  fitness 1  fitness 2  \\\n",
       "30.0  7.047910e+04  416473.200000       0.868991        0.0   0.824547   \n",
       "2.0   1.617001e+06  973195.800000       0.873443        0.0   0.829983   \n",
       "50.0  3.333433e+04  425552.000000       0.875275        0.0   0.832879   \n",
       "20.0  1.925010e+05  507715.300000       0.876308        0.0   0.871696   \n",
       "40.0  4.500100e+04  439668.666667       0.876396        0.0   0.777538   \n",
       "15.0  3.900100e+04  390934.300000       0.878336        0.0   0.850714   \n",
       "1.0   5.985010e+05  761977.800000       0.878664        0.0   0.832124   \n",
       "5.0   3.585010e+05  589195.400000       0.878790        0.0   0.818809   \n",
       "0.5   1.267001e+06  902052.400000       0.879840        0.0   0.801327   \n",
       "10.0  1.290010e+05  576727.200000       0.879921        0.0   0.845606   \n",
       "\n",
       "      fitness 3  fitness 4  tamaño  porcentajeMejora  mejor fitness  distancia  \n",
       "30.0   0.637500   0.512307    24.0          0.001474       0.875076   0.283889  \n",
       "2.0    0.654167   0.520376    24.0          0.005306       0.873443   0.306000  \n",
       "50.0   0.666667   0.506632    24.0          0.000000       0.875275   0.280000  \n",
       "20.0   0.591667   0.536662    24.0          0.002280       0.876308   0.288000  \n",
       "40.0   0.777778   0.496561    24.0          0.006127       0.876396   0.300000  \n",
       "15.0   0.645833   0.529477    24.0          0.000000       0.878336   0.288000  \n",
       "1.0    0.679167   0.535262    24.0          0.011344       0.878664   0.291000  \n",
       "5.0    0.708333   0.524355    24.0          0.006329       0.878790   0.297000  \n",
       "0.5    0.750000   0.516360    24.0          0.000442       0.879840   0.300000  \n",
       "10.0   0.666667   0.526787    24.0          0.007889       0.879921   0.291000  "
      ]
     },
     "execution_count": 22,
     "metadata": {},
     "output_type": "execute_result"
    }
   ],
   "source": [
    "base_path = \"C:\\\\Users\\\\Administrador\\\\Documents\\\\Proyecto-Salomon\\\\resultados\\\\Caso1Id1m-01-01-2019\\\\VNS\\\\Trazas\\\\SVNS\\\\slots\"\n",
    "sub_paths = [\"0.5\", \"1.0\", \"2.0\", \"5.0\", \"10.0\", \"15.0\", \"20.0\", \"30.0\", \"40.0\", \"50.0\"]\n",
    "\n",
    "datos_medios_dict = {}\n",
    "\n",
    "for sub_path in sub_paths:\n",
    "    dfs = cargar_ejecuciones(base_path + \"\\\\\" + sub_path)\n",
    "    datos_medios_dict[sub_path] = procesar_medias(dfs)\n",
    "\n",
    "# presentar_datos_medios, ordenador de mejor a peor\n",
    "datos_medios = pd.DataFrame(data=datos_medios_dict).transpose().sort_values(by=['fitness total'])\n",
    "datos_medios"
   ]
  },
  {
   "cell_type": "code",
   "execution_count": 19,
   "metadata": {},
   "outputs": [
    {
     "data": {
      "image/png": "[encoded data removed]",
      "text/plain": [
       "<Figure size 648x648 with 1 Axes>"
      ]
     },
     "metadata": {
      "needs_background": "light"
     },
     "output_type": "display_data"
    }
   ],
   "source": [
    "ax=datos_medios[\"fitness total\"].plot.bar(y=\"fitness total\")\n",
    "for p in ax.patches:\n",
    "    ax.annotate(str(round(p.get_height(),3)), (p.get_x() * 1.005, p.get_height() * 1.005))\n",
    "plt.show() \n"
   ]
  },
  {
   "cell_type": "code",
   "execution_count": 20,
   "metadata": {},
   "outputs": [
    {
     "data": {
      "image/png": "[encoded data removed]",
      "text/plain": [
       "<Figure size 648x648 with 1 Axes>"
      ]
     },
     "metadata": {
      "needs_background": "light"
     },
     "output_type": "display_data"
    }
   ],
   "source": [
    "datos_medios[\"fitness total\"].plot(y=\"fitness total\", style='.-')\n",
    "plt.show() "
   ]
  },
  {
   "cell_type": "code",
   "execution_count": null,
   "metadata": {},
   "outputs": [],
   "source": []
  },
  {
   "cell_type": "code",
   "execution_count": null,
   "metadata": {},
   "outputs": [],
   "source": []
  },
  {
   "cell_type": "code",
   "execution_count": null,
   "metadata": {},
   "outputs": [],
   "source": []
  },
  {
   "cell_type": "code",
   "execution_count": null,
   "metadata": {},
   "outputs": [],
   "source": [
    "# Para presentar los datos antes de hacerse la media:\n",
    "path1=\"C:\\\\Users\\\\Administrador\\\\Documents\\\\Proyecto-Salomon\\\\resultados\\\\Caso1Id1m-01-01-2019\\\\VNS\\\\Trazas\\\\SVNS\\\\slots\\\\\"\n",
    "path2=\"0.5\"\n",
    "for ejecucion in listdir(path1+path2):\n",
    "    df = pd.read_csv(path + \"\\\\\" + ejecucion, sep=';')\n",
    "    dfs.append(df)\n",
    "\n",
    "lista = []\n",
    "for df in dfs:\n",
    "    lista.append(df.iloc[-1])\n",
    "# print(list)\n",
    "df_concat = pd.DataFrame(data=lista, index=range(0, len(lista)))\n",
    "# df_concat.mean()\n",
    "df_concat"
   ]
  },
  {
   "cell_type": "code",
   "execution_count": null,
   "metadata": {},
   "outputs": [],
   "source": []
  }
 ],
 "metadata": {
  "kernelspec": {
   "display_name": "Python 3",
   "language": "python",
   "name": "python3"
  },
  "language_info": {
   "codemirror_mode": {
    "name": "ipython",
    "version": 3
   },
   "file_extension": ".py",
   "mimetype": "text/x-python",
   "name": "python",
   "nbconvert_exporter": "python",
   "pygments_lexer": "ipython3",
   "version": "3.7.3"
  },
  "varInspector": {
   "cols": {
    "lenName": 16,
    "lenType": 16,
    "lenVar": 40
   },
   "kernels_config": {
    "python": {
     "delete_cmd_postfix": "",
     "delete_cmd_prefix": "del ",
     "library": "var_list.py",
     "varRefreshCmd": "print(var_dic_list())"
    },
    "r": {
     "delete_cmd_postfix": ") ",
     "delete_cmd_prefix": "rm(",
     "library": "var_list.r",
     "varRefreshCmd": "cat(var_dic_list()) "
    }
   },
   "position": {
    "height": "547.2px",
    "left": "856.6px",
    "right": "20px",
    "top": "103px",
    "width": "663.8px"
   },
   "types_to_exclude": [
    "module",
    "function",
    "builtin_function_or_method",
    "instance",
    "_Feature"
   ],
   "window_display": false
  }
 },
 "nbformat": 4,
 "nbformat_minor": 1
}
